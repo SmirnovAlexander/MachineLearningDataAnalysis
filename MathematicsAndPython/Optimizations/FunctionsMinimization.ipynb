{
 "cells": [
  {
   "cell_type": "markdown",
   "metadata": {},
   "source": [
    "The goal is to find a minimum of a function."
   ]
  },
  {
   "cell_type": "code",
   "execution_count": 1,
   "metadata": {},
   "outputs": [],
   "source": [
    "import numpy as np\n",
    "import matplotlib.pyplot as plt\n",
    "from scipy.optimize import minimize, differential_evolution\n",
    "from numpy import sin, exp "
   ]
  },
  {
   "cell_type": "markdown",
   "metadata": {},
   "source": [
    "# Define initial functions. "
   ]
  },
  {
   "cell_type": "code",
   "execution_count": 2,
   "metadata": {},
   "outputs": [],
   "source": [
    "# Defining a functions to search minimum of.\n",
    "def f(x):\n",
    "    return sin(x / 5) * exp(x / 10) + 5 * exp(-x / 2)\n",
    "\n",
    "def h(x: int):\n",
    "    return f(x).astype(int)"
   ]
  },
  {
   "cell_type": "code",
   "execution_count": 3,
   "metadata": {},
   "outputs": [],
   "source": [
    "# Defining range.\n",
    "x = np.arange(0, 30, 0.1)"
   ]
  },
  {
   "cell_type": "code",
   "execution_count": 4,
   "metadata": {
    "scrolled": true
   },
   "outputs": [
    {
     "data": {
      "image/png": "[encoded data removed]",
      "text/plain": [
       "<Figure size 432x288 with 1 Axes>"
      ]
     },
     "metadata": {
      "needs_background": "light"
     },
     "output_type": "display_data"
    }
   ],
   "source": [
    "# Displaying our function.\n",
    "plt.plot(x, f(x), label=\"f(x)\")\n",
    "plt.plot(x, h(x), '.', label=\"h(x)\")\n",
    "plt.legend()\n",
    "plt.show()"
   ]
  },
  {
   "cell_type": "markdown",
   "metadata": {},
   "source": [
    "# Smooth function gradient optimization"
   ]
  },
  {
   "cell_type": "code",
   "execution_count": 5,
   "metadata": {},
   "outputs": [
    {
     "name": "stdout",
     "output_type": "stream",
     "text": [
      "      fun: 1.7452682903449388\n",
      " hess_inv: array([[5.98752437]])\n",
      "      jac: array([-2.07126141e-06])\n",
      "  message: 'Optimization terminated successfully.'\n",
      "     nfev: 21\n",
      "      nit: 6\n",
      "     njev: 7\n",
      "   status: 0\n",
      "  success: True\n",
      "        x: array([4.13627618])\n"
     ]
    }
   ],
   "source": [
    "# Finding 1st local minimum.\n",
    "local_min_1 = minimize(f, 2, method=\"BFGS\")\n",
    "print(local_min_1)\n",
    "value_local_min_1 = local_min_1.fun"
   ]
  },
  {
   "cell_type": "code",
   "execution_count": 6,
   "metadata": {},
   "outputs": [
    {
     "name": "stdout",
     "output_type": "stream",
     "text": [
      "      fun: -11.898894665981285\n",
      " hess_inv: array([[1.67932484]])\n",
      "      jac: array([2.38418579e-07])\n",
      "  message: 'Optimization terminated successfully.'\n",
      "     nfev: 21\n",
      "      nit: 6\n",
      "     njev: 7\n",
      "   status: 0\n",
      "  success: True\n",
      "        x: array([25.88019339])\n"
     ]
    }
   ],
   "source": [
    "# Finding 2nd local minimum.\n",
    "local_min_2 = minimize(f, 30, method=\"BFGS\")\n",
    "print(local_min_2)\n",
    "value_local_min_2 = local_min_2.fun"
   ]
  },
  {
   "cell_type": "code",
   "execution_count": 7,
   "metadata": {},
   "outputs": [
    {
     "name": "stdout",
     "output_type": "stream",
     "text": [
      "1.75 -11.9"
     ]
    }
   ],
   "source": [
    "# Writing function values in local minimums to file.\n",
    "with open('output/submission-1.txt', 'w') as file_obj:\n",
    "    file_obj.write(\"{} {}\".format(round(value_local_min_1, 2), \n",
    "                                  round(value_local_min_2, 2)))\n",
    "    \n",
    "!cd output/ && cat submission-1.txt    "
   ]
  },
  {
   "cell_type": "markdown",
   "metadata": {},
   "source": [
    "# Smooth function global optimization "
   ]
  },
  {
   "cell_type": "code",
   "execution_count": 8,
   "metadata": {},
   "outputs": [
    {
     "name": "stdout",
     "output_type": "stream",
     "text": [
      "     fun: array([-11.89889467])\n",
      "     jac: array([5.86197757e-06])\n",
      " message: 'Optimization terminated successfully.'\n",
      "    nfev: 96\n",
      "     nit: 5\n",
      " success: True\n",
      "       x: array([25.88020279])\n"
     ]
    }
   ],
   "source": [
    "# Finding global minimum on (1, 30) with differential evolution.\n",
    "global_min = differential_evolution(f, [(1, 30)])\n",
    "print(global_min)\n",
    "value_global_min = global_min.fun"
   ]
  },
  {
   "cell_type": "code",
   "execution_count": 9,
   "metadata": {},
   "outputs": [
    {
     "name": "stdout",
     "output_type": "stream",
     "text": [
      "-11.9"
     ]
    }
   ],
   "source": [
    "# Writing function value in global minimum to file.\n",
    "with open('output/submission-2.txt', 'w') as file_obj:\n",
    "    file_obj.write(\"{}\".format(round(value_global_min[0], 2)))  \n",
    "    \n",
    "!cd output/ && cat submission-2.txt    "
   ]
  },
  {
   "cell_type": "markdown",
   "metadata": {},
   "source": [
    "# Non-smooth function optimization "
   ]
  },
  {
   "cell_type": "code",
   "execution_count": 10,
   "metadata": {
    "scrolled": true
   },
   "outputs": [
    {
     "name": "stdout",
     "output_type": "stream",
     "text": [
      "      fun: array([-5])\n",
      " hess_inv: array([[1]])\n",
      "      jac: array([0.])\n",
      "  message: 'Optimization terminated successfully.'\n",
      "     nfev: 3\n",
      "      nit: 0\n",
      "     njev: 1\n",
      "   status: 0\n",
      "  success: True\n",
      "        x: array([30.])\n"
     ]
    }
   ],
   "source": [
    "# Trying to find local minimum.\n",
    "local_min_non_smooth = minimize(h, 30, method=\"BFGS\")\n",
    "print(local_min_non_smooth)\n",
    "value_local_min_non_smooth = local_min_non_smooth.fun"
   ]
  },
  {
   "cell_type": "code",
   "execution_count": 11,
   "metadata": {},
   "outputs": [
    {
     "name": "stdout",
     "output_type": "stream",
     "text": [
      "     fun: -11.0\n",
      " message: 'Optimization terminated successfully.'\n",
      "    nfev: 62\n",
      "     nit: 3\n",
      " success: True\n",
      "       x: array([24.85171631])\n"
     ]
    }
   ],
   "source": [
    "# Finding global minimum.\n",
    "global_min_non_smooth = differential_evolution(h, [(1,30)])\n",
    "print(global_min_non_smooth)\n",
    "value_global_min_non_smooth = global_min_non_smooth.fun"
   ]
  },
  {
   "cell_type": "code",
   "execution_count": 12,
   "metadata": {},
   "outputs": [
    {
     "name": "stdout",
     "output_type": "stream",
     "text": [
      "-5 -11.0"
     ]
    }
   ],
   "source": [
    "# Writing function values in minimums to file.\n",
    "with open('output/submission-3.txt', 'w') as file_obj:\n",
    "    file_obj.write(\"{} {}\".format(round(value_local_min_non_smooth[0]), \n",
    "                                  round(value_global_min_non_smooth, 2)))\n",
    "    \n",
    "!cd output/ && cat submission-3.txt    "
   ]
  }
 ],
 "metadata": {
  "hide_input": false,
  "kernelspec": {
   "display_name": "Python 3",
   "language": "python",
   "name": "python3"
  },
  "language_info": {
   "codemirror_mode": {
    "name": "ipython",
    "version": 3
   },
   "file_extension": ".py",
   "mimetype": "text/x-python",
   "name": "python",
   "nbconvert_exporter": "python",
   "pygments_lexer": "ipython3",
   "version": "3.7.4"
  },
  "toc": {
   "base_numbering": 1,
   "nav_menu": {},
   "number_sections": true,
   "sideBar": true,
   "skip_h1_title": false,
   "title_cell": "Table of Contents",
   "title_sidebar": "Contents",
   "toc_cell": false,
   "toc_position": {
    "height": "calc(100% - 180px)",
    "left": "10px",
    "top": "150px",
    "width": "384px"
   },
   "toc_section_display": true,
   "toc_window_display": true
  }
 },
 "nbformat": 4,
 "nbformat_minor": 2
}

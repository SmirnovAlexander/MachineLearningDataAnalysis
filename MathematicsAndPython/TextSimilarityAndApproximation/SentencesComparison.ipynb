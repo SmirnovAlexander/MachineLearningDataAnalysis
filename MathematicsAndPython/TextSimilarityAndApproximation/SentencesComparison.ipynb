{
 "cells": [
  {
   "cell_type": "markdown",
   "metadata": {},
   "source": [
    "# Задача: сравнение предложений\n",
    "\n",
    "Дан набор предложений, скопированных с Википедии. Каждое из них имеет \"кошачью тему\" в одном из трех смыслов:\n",
    "\n",
    "- кошки (животные)\n",
    "- UNIX-утилита cat для вывода содержимого файлов\n",
    "- версии операционной системы OS X, названные в честь семейства кошачьих\n",
    "\n",
    "Ваша задача — найти два предложения, которые ближе всего по смыслу к расположенному в самой первой строке. В качестве меры близости по смыслу мы будем использовать косинусное расстояние."
   ]
  },
  {
   "cell_type": "markdown",
   "metadata": {},
   "source": [
    "## Solution "
   ]
  },
  {
   "cell_type": "code",
   "execution_count": 1,
   "metadata": {},
   "outputs": [],
   "source": [
    "import re\n",
    "import numpy as np\n",
    "from scipy.spatial.distance import cosine"
   ]
  },
  {
   "cell_type": "code",
   "execution_count": 2,
   "metadata": {},
   "outputs": [],
   "source": [
    "# Reading file.\n",
    "sentences = []\n",
    "with open(\"data/sentences.txt\", \"r\") as file_obj:\n",
    "    for line in file_obj:\n",
    "        sentences.append(line.strip().lower())"
   ]
  },
  {
   "cell_type": "code",
   "execution_count": 3,
   "metadata": {},
   "outputs": [],
   "source": [
    "# Tokenization.\n",
    "sentences_tokenized = list(map(lambda sentence: re.split('[^a-z]', sentence), sentences))"
   ]
  },
  {
   "cell_type": "code",
   "execution_count": 4,
   "metadata": {},
   "outputs": [],
   "source": [
    "# Whitespaces deletion.\n",
    "sentences_tokenized = list(map(lambda sentence: list(filter(lambda word: word != \"\", sentence)), sentences_tokenized))"
   ]
  },
  {
   "cell_type": "code",
   "execution_count": 5,
   "metadata": {},
   "outputs": [],
   "source": [
    "# Dict from all words.\n",
    "all_words = []\n",
    "for sentence in sentences_tokenized:\n",
    "    for word in sentence:\n",
    "        all_words.append(word)\n",
    "\n",
    "unique_words = set(all_words)\n",
    "keys = range(len(unique_words))\n",
    "dictionary = dict(zip(keys, unique_words))"
   ]
  },
  {
   "cell_type": "code",
   "execution_count": 6,
   "metadata": {},
   "outputs": [
    {
     "name": "stdout",
     "output_type": "stream",
     "text": [
      "(22, 254)\n"
     ]
    }
   ],
   "source": [
    "# Matrix n*d, where n - number of \n",
    "# sentences, d - number of unique words.\n",
    "# a(i, j) countains number of appearences\n",
    "# of word j in in sentence i.\n",
    "matrix = np.array([[sentence.count(word) for word in dictionary.values()] for sentence in sentences_tokenized])\n",
    "print(matrix.shape)"
   ]
  },
  {
   "cell_type": "code",
   "execution_count": 7,
   "metadata": {},
   "outputs": [],
   "source": [
    "# Counting cosine distance between 1st\n",
    "# sentence and other sentences.\n",
    "index_of_sentence_to_compare_with = 0\n",
    "distances = []\n",
    "fst_sentence = matrix[index_of_sentence_to_compare_with]\n",
    "for line in matrix:\n",
    "    distance = cosine(fst_sentence, line)\n",
    "    distances.append(distance)"
   ]
  },
  {
   "cell_type": "code",
   "execution_count": 8,
   "metadata": {},
   "outputs": [],
   "source": [
    "# Selecting 2 indexes with minimum values.\n",
    "fst_min = distances.index(sorted(distances)[1])\n",
    "snd_min = distances.index(sorted(distances)[2])"
   ]
  },
  {
   "cell_type": "code",
   "execution_count": 9,
   "metadata": {},
   "outputs": [],
   "source": [
    "# Seleceting 2 indexes with maximum values.\n",
    "fst_max = distances.index(sorted(distances)[len(distances)-1])\n",
    "snd_max = distances.index(sorted(distances)[len(distances)-2])"
   ]
  },
  {
   "cell_type": "code",
   "execution_count": 10,
   "metadata": {},
   "outputs": [],
   "source": [
    "# Writing 2 indexes with minimum values to file.\n",
    "with open('output/submission-1.txt', 'w') as file_obj:\n",
    "    file_obj.write(\"{} {}\".format(fst_min, snd_min))    "
   ]
  },
  {
   "cell_type": "markdown",
   "metadata": {},
   "source": [
    "## Analyzing solution "
   ]
  },
  {
   "cell_type": "markdown",
   "metadata": {},
   "source": [
    "Given sentence was:"
   ]
  },
  {
   "cell_type": "code",
   "execution_count": 11,
   "metadata": {},
   "outputs": [
    {
     "name": "stdout",
     "output_type": "stream",
     "text": [
      "in comparison to dogs, cats have not undergone major changes during the domestication process.\n"
     ]
    }
   ],
   "source": [
    "print(sentences[index_of_sentence_to_compare_with])"
   ]
  },
  {
   "cell_type": "markdown",
   "metadata": {},
   "source": [
    "Nearest to that sentence are sentences:"
   ]
  },
  {
   "cell_type": "code",
   "execution_count": 12,
   "metadata": {},
   "outputs": [
    {
     "name": "stdout",
     "output_type": "stream",
     "text": [
      "domestic cats are similar in size to the other members of the genus felis, typically weighing between 4 and 5 kg (8.8 and 11.0 lb).\n",
      "in one, people deliberately tamed cats in a process of artificial selection, as they were useful predators of vermin.\n"
     ]
    }
   ],
   "source": [
    "print(sentences[fst_min])\n",
    "print(sentences[snd_min])"
   ]
  },
  {
   "cell_type": "markdown",
   "metadata": {},
   "source": [
    "Most far sentences are sentences:"
   ]
  },
  {
   "cell_type": "code",
   "execution_count": 13,
   "metadata": {},
   "outputs": [
    {
     "name": "stdout",
     "output_type": "stream",
     "text": [
      "os x mountain lion was released on july 25, 2012 for purchase and download through apple's mac app store, as part of a switch to releasing os x versions online and every year.\n",
      "as cat simply catenates streams of bytes, it can be also used to concatenate binary files, where it will just concatenate sequence of bytes.\n"
     ]
    }
   ],
   "source": [
    "print(sentences[fst_max])\n",
    "print(sentences[snd_max])"
   ]
  },
  {
   "cell_type": "markdown",
   "metadata": {},
   "source": [
    "So we can see that the nearest sentences are about animal cats, and the most far sentences are about os x and terminal method."
   ]
  }
 ],
 "metadata": {
  "hide_input": false,
  "kernelspec": {
   "display_name": "Python 3",
   "language": "python",
   "name": "python3"
  },
  "language_info": {
   "codemirror_mode": {
    "name": "ipython",
    "version": 3
   },
   "file_extension": ".py",
   "mimetype": "text/x-python",
   "name": "python",
   "nbconvert_exporter": "python",
   "pygments_lexer": "ipython3",
   "version": "3.7.4"
  },
  "toc": {
   "base_numbering": 1,
   "nav_menu": {},
   "number_sections": true,
   "sideBar": false,
   "skip_h1_title": false,
   "title_cell": "Table of Contents",
   "title_sidebar": "Contents",
   "toc_cell": false,
   "toc_position": {
    "height": "47px",
    "left": "1761px",
    "top": "831px",
    "width": "159px"
   },
   "toc_section_display": false,
   "toc_window_display": true
  }
 },
 "nbformat": 4,
 "nbformat_minor": 2
}

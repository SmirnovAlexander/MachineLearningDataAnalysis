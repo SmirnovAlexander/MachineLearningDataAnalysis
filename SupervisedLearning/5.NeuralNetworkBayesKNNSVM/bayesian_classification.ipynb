{
 "cells": [
  {
   "cell_type": "code",
   "execution_count": 1,
   "id": "african-cedar",
   "metadata": {},
   "outputs": [],
   "source": [
    "import numpy as np\n",
    "from pprint import pprint\n",
    "\n",
    "from sklearn.model_selection import cross_val_score\n",
    "from sklearn.datasets import load_breast_cancer, load_digits\n",
    "\n",
    "from sklearn.naive_bayes import BernoulliNB, MultinomialNB, GaussianNB"
   ]
  },
  {
   "cell_type": "code",
   "execution_count": 2,
   "id": "backed-ceramic",
   "metadata": {},
   "outputs": [],
   "source": [
    "def write_answer(data, filename):\n",
    "    with open(f\"./output/bayesian_classification/{filename}.txt\", \"w\") as f:\n",
    "        if type(data)==list:\n",
    "            f.write(\" \".join(str(i) for i in data))\n",
    "        else:\n",
    "            f.write(str(data))"
   ]
  },
  {
   "cell_type": "markdown",
   "id": "dominant-collective",
   "metadata": {},
   "source": [
    "# Best score on breast_cancer"
   ]
  },
  {
   "cell_type": "code",
   "execution_count": 3,
   "id": "biblical-bonus",
   "metadata": {},
   "outputs": [
    {
     "name": "stdout",
     "output_type": "stream",
     "text": [
      "['malignant', 'benign']\n",
      "(569, 30)\n"
     ]
    }
   ],
   "source": [
    "data = load_breast_cancer()\n",
    "X = data[\"data\"]\n",
    "y = data[\"target\"]\n",
    "\n",
    "print(list(data.target_names))\n",
    "print(X.shape)"
   ]
  },
  {
   "cell_type": "code",
   "execution_count": 4,
   "id": "equal-reception",
   "metadata": {},
   "outputs": [],
   "source": [
    "results = {}\n",
    "results[\"bernoullinb\"] = np.mean(cross_val_score(BernoulliNB(), X, y))\n",
    "results[\"multinomialnb\"] = np.mean(cross_val_score(MultinomialNB(), X, y))\n",
    "results[\"gaussiannb\"] = np.mean(cross_val_score(GaussianNB(), X, y))"
   ]
  },
  {
   "cell_type": "code",
   "execution_count": 5,
   "id": "bigger-regular",
   "metadata": {},
   "outputs": [
    {
     "name": "stdout",
     "output_type": "stream",
     "text": [
      "{'gaussiannb': 0.9385188635305075,\n",
      " 'multinomialnb': 0.8963204471355379,\n",
      " 'bernoullinb': 0.6274181027790716}\n"
     ]
    }
   ],
   "source": [
    "results_sorted = dict(sorted(results.items(), key=lambda item: item[1], reverse=True))\n",
    "pprint(results_sorted, sort_dicts=False)\n",
    "write_answer(list(results_sorted.values())[0], 1)"
   ]
  },
  {
   "cell_type": "markdown",
   "id": "lasting-license",
   "metadata": {},
   "source": [
    "# Best score on digits"
   ]
  },
  {
   "cell_type": "code",
   "execution_count": 6,
   "id": "breeding-internship",
   "metadata": {},
   "outputs": [
    {
     "name": "stdout",
     "output_type": "stream",
     "text": [
      "[0, 1, 2, 3, 4, 5, 6, 7, 8, 9]\n",
      "(1797, 64)\n"
     ]
    }
   ],
   "source": [
    "data = load_digits()\n",
    "X = data[\"data\"]\n",
    "y = data[\"target\"]\n",
    "\n",
    "print(list(data.target_names))\n",
    "print(X.shape)"
   ]
  },
  {
   "cell_type": "code",
   "execution_count": 7,
   "id": "consecutive-accommodation",
   "metadata": {},
   "outputs": [],
   "source": [
    "results = {}\n",
    "results[\"bernoullinb\"] = np.mean(cross_val_score(BernoulliNB(), X, y))\n",
    "results[\"multinomialnb\"] = np.mean(cross_val_score(MultinomialNB(), X, y))\n",
    "results[\"gaussiannb\"] = np.mean(cross_val_score(GaussianNB(), X, y))"
   ]
  },
  {
   "cell_type": "code",
   "execution_count": 8,
   "id": "humanitarian-bridge",
   "metadata": {},
   "outputs": [
    {
     "name": "stdout",
     "output_type": "stream",
     "text": [
      "{'multinomialnb': 0.8703497369235531,\n",
      " 'bernoullinb': 0.8241736304549674,\n",
      " 'gaussiannb': 0.8069281956050759}\n"
     ]
    }
   ],
   "source": [
    "results_sorted = dict(sorted(results.items(), key=lambda item: item[1], reverse=True))\n",
    "pprint(results_sorted, sort_dicts=False)\n",
    "write_answer(list(results_sorted.values())[0], 2)"
   ]
  },
  {
   "cell_type": "markdown",
   "id": "dental-pencil",
   "metadata": {},
   "source": [
    "# Right answers"
   ]
  },
  {
   "cell_type": "code",
   "execution_count": 9,
   "id": "demanding-component",
   "metadata": {},
   "outputs": [],
   "source": [
    "answers = []"
   ]
  },
  {
   "cell_type": "markdown",
   "id": "ordered-fifty",
   "metadata": {},
   "source": [
    "## continuous features bernoulli is best (False)"
   ]
  },
  {
   "cell_type": "markdown",
   "id": "lasting-gospel",
   "metadata": {},
   "source": [
    "## continuous features multinomial is best (False)"
   ]
  },
  {
   "cell_type": "markdown",
   "id": "sharing-reviewer",
   "metadata": {},
   "source": [
    "## positive integers features multinomial is best (True)"
   ]
  },
  {
   "cell_type": "code",
   "execution_count": 10,
   "id": "national-conviction",
   "metadata": {},
   "outputs": [],
   "source": [
    "answers.append(3)"
   ]
  },
  {
   "cell_type": "markdown",
   "id": "included-teacher",
   "metadata": {},
   "source": [
    "## continuous features gaussian is best (True)"
   ]
  },
  {
   "cell_type": "code",
   "execution_count": 11,
   "id": "toxic-replacement",
   "metadata": {},
   "outputs": [],
   "source": [
    "answers.append(4)"
   ]
  },
  {
   "cell_type": "code",
   "execution_count": 12,
   "id": "willing-dietary",
   "metadata": {},
   "outputs": [],
   "source": [
    "write_answer(answers, 3)"
   ]
  }
 ],
 "metadata": {
  "kernelspec": {
   "display_name": "Python 3",
   "language": "python",
   "name": "python3"
  },
  "language_info": {
   "codemirror_mode": {
    "name": "ipython",
    "version": 3
   },
   "file_extension": ".py",
   "mimetype": "text/x-python",
   "name": "python",
   "nbconvert_exporter": "python",
   "pygments_lexer": "ipython3",
   "version": "3.9.3"
  },
  "toc": {
   "base_numbering": 1,
   "nav_menu": {},
   "number_sections": true,
   "sideBar": true,
   "skip_h1_title": false,
   "title_cell": "Table of Contents",
   "title_sidebar": "Contents",
   "toc_cell": false,
   "toc_position": {},
   "toc_section_display": true,
   "toc_window_display": false
  }
 },
 "nbformat": 4,
 "nbformat_minor": 5
}

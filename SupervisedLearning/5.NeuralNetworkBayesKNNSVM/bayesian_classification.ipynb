{
 "cells": [
  {
   "cell_type": "code",
   "execution_count": 1,
   "id": "compliant-testament",
   "metadata": {},
   "outputs": [],
   "source": [
    "import numpy as np\n",
    "from pprint import pprint\n",
    "\n",
    "from sklearn.model_selection import cross_val_score\n",
    "from sklearn.datasets import load_breast_cancer, load_digits\n",
    "\n",
    "from sklearn.naive_bayes import BernoulliNB, MultinomialNB, GaussianNB"
   ]
  },
  {
   "cell_type": "code",
   "execution_count": 2,
   "id": "selective-export",
   "metadata": {},
   "outputs": [],
   "source": [
    "def write_answer(data, filename):\n",
    "    with open(f\"./output/bayesian_classification/{filename}.txt\", \"w\") as f:\n",
    "        if type(data)==list:\n",
    "            f.write(\" \".join(str(i) for i in data))\n",
    "        else:\n",
    "            f.write(str(data))"
   ]
  },
  {
   "cell_type": "markdown",
   "id": "whole-thought",
   "metadata": {},
   "source": [
    "# Best score on breast_cancer"
   ]
  },
  {
   "cell_type": "code",
   "execution_count": 3,
   "id": "domestic-oxygen",
   "metadata": {},
   "outputs": [
    {
     "name": "stdout",
     "output_type": "stream",
     "text": [
      "['malignant', 'benign']\n",
      "(569, 30)\n"
     ]
    }
   ],
   "source": [
    "data = load_breast_cancer()\n",
    "X = data[\"data\"]\n",
    "y = data[\"target\"]\n",
    "\n",
    "print(list(data.target_names))\n",
    "print(X.shape)"
   ]
  },
  {
   "cell_type": "code",
   "execution_count": 4,
   "id": "cardiac-playback",
   "metadata": {},
   "outputs": [],
   "source": [
    "results = {}\n",
    "results[\"bernoullinb\"] = np.mean(cross_val_score(BernoulliNB(), X, y))\n",
    "results[\"multinomialnb\"] = np.mean(cross_val_score(MultinomialNB(), X, y))\n",
    "results[\"gaussiannb\"] = np.mean(cross_val_score(GaussianNB(), X, y))"
   ]
  },
  {
   "cell_type": "code",
   "execution_count": 5,
   "id": "cordless-california",
   "metadata": {},
   "outputs": [
    {
     "name": "stdout",
     "output_type": "stream",
     "text": [
      "{'gaussiannb': 0.9385188635305075,\n",
      " 'multinomialnb': 0.8963204471355379,\n",
      " 'bernoullinb': 0.6274181027790716}\n"
     ]
    }
   ],
   "source": [
    "results_sorted = dict(sorted(results.items(), key=lambda item: item[1], reverse=True))\n",
    "pprint(results_sorted, sort_dicts=False)\n",
    "write_answer(0.93, 1)"
   ]
  },
  {
   "cell_type": "markdown",
   "id": "different-savage",
   "metadata": {},
   "source": [
    "# Best score on digits"
   ]
  },
  {
   "cell_type": "code",
   "execution_count": 6,
   "id": "czech-stylus",
   "metadata": {},
   "outputs": [
    {
     "name": "stdout",
     "output_type": "stream",
     "text": [
      "[0, 1, 2, 3, 4, 5, 6, 7, 8, 9]\n",
      "(1797, 64)\n"
     ]
    }
   ],
   "source": [
    "data = load_digits()\n",
    "X = data[\"data\"]\n",
    "y = data[\"target\"]\n",
    "\n",
    "print(list(data.target_names))\n",
    "print(X.shape)"
   ]
  },
  {
   "cell_type": "code",
   "execution_count": 7,
   "id": "accepting-agreement",
   "metadata": {},
   "outputs": [],
   "source": [
    "results = {}\n",
    "results[\"bernoullinb\"] = np.mean(cross_val_score(BernoulliNB(), X, y))\n",
    "results[\"multinomialnb\"] = np.mean(cross_val_score(MultinomialNB(), X, y))\n",
    "results[\"gaussiannb\"] = np.mean(cross_val_score(GaussianNB(), X, y))"
   ]
  },
  {
   "cell_type": "code",
   "execution_count": 8,
   "id": "comparative-limit",
   "metadata": {},
   "outputs": [
    {
     "name": "stdout",
     "output_type": "stream",
     "text": [
      "{'multinomialnb': 0.8703497369235531,\n",
      " 'bernoullinb': 0.8241736304549674,\n",
      " 'gaussiannb': 0.8069281956050759}\n"
     ]
    }
   ],
   "source": [
    "results_sorted = dict(sorted(results.items(), key=lambda item: item[1], reverse=True))\n",
    "pprint(results_sorted, sort_dicts=False)\n",
    "write_answer(list(results_sorted.values())[0], 2)"
   ]
  },
  {
   "cell_type": "markdown",
   "id": "civilian-trash",
   "metadata": {},
   "source": [
    "# Right answers"
   ]
  },
  {
   "cell_type": "code",
   "execution_count": 9,
   "id": "sixth-scene",
   "metadata": {},
   "outputs": [],
   "source": [
    "answers = []"
   ]
  },
  {
   "cell_type": "markdown",
   "id": "single-george",
   "metadata": {},
   "source": [
    "## continuous features bernoulli is best (False)"
   ]
  },
  {
   "cell_type": "markdown",
   "id": "subtle-qualification",
   "metadata": {},
   "source": [
    "## continuous features multinomial is best (False)"
   ]
  },
  {
   "cell_type": "markdown",
   "id": "subjective-headquarters",
   "metadata": {},
   "source": [
    "## positive integers features multinomial is best (True)"
   ]
  },
  {
   "cell_type": "code",
   "execution_count": 10,
   "id": "false-terminal",
   "metadata": {},
   "outputs": [],
   "source": [
    "answers.append(3)"
   ]
  },
  {
   "cell_type": "markdown",
   "id": "acting-rendering",
   "metadata": {},
   "source": [
    "## continuous features gaussian is best (True)"
   ]
  },
  {
   "cell_type": "code",
   "execution_count": 11,
   "id": "integral-music",
   "metadata": {},
   "outputs": [],
   "source": [
    "answers.append(4)"
   ]
  },
  {
   "cell_type": "code",
   "execution_count": 12,
   "id": "aggregate-paste",
   "metadata": {},
   "outputs": [],
   "source": [
    "write_answer(answers, 3)"
   ]
  }
 ],
 "metadata": {
  "kernelspec": {
   "display_name": "Python 3",
   "language": "python",
   "name": "python3"
  },
  "language_info": {
   "codemirror_mode": {
    "name": "ipython",
    "version": 3
   },
   "file_extension": ".py",
   "mimetype": "text/x-python",
   "name": "python",
   "nbconvert_exporter": "python",
   "pygments_lexer": "ipython3",
   "version": "3.9.3"
  },
  "toc": {
   "base_numbering": 1,
   "nav_menu": {},
   "number_sections": true,
   "sideBar": true,
   "skip_h1_title": false,
   "title_cell": "Table of Contents",
   "title_sidebar": "Contents",
   "toc_cell": false,
   "toc_position": {},
   "toc_section_display": true,
   "toc_window_display": false
  }
 },
 "nbformat": 4,
 "nbformat_minor": 5
}

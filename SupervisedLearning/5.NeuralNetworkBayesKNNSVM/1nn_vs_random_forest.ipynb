{
 "cells": [
  {
   "cell_type": "code",
   "execution_count": 1,
   "id": "solved-criminal",
   "metadata": {},
   "outputs": [],
   "source": [
    "import numpy as np\n",
    "from pprint import pprint\n",
    "\n",
    "from sklearn.metrics import euclidean_distances, accuracy_score\n",
    "\n",
    "from sklearn.datasets import load_digits\n",
    "from sklearn.model_selection import train_test_split\n",
    "\n",
    "from sklearn.ensemble import RandomForestClassifier\n",
    "\n",
    "from sklearn.base import BaseEstimator, ClassifierMixin\n",
    "from sklearn.utils.validation import check_X_y, check_array, check_is_fitted\n",
    "from sklearn.utils.multiclass import unique_labels"
   ]
  },
  {
   "cell_type": "code",
   "execution_count": 2,
   "id": "offshore-inventory",
   "metadata": {},
   "outputs": [],
   "source": [
    "def write_answer(data, filename):\n",
    "    with open(f\"./output/1nn_vs_random_forest/{filename}.txt\", \"w\") as f:\n",
    "        if type(data)==list:\n",
    "            f.write(\" \".join(str(i) for i in data))\n",
    "        else:\n",
    "            f.write(str(data))"
   ]
  },
  {
   "cell_type": "markdown",
   "id": "beginning-jason",
   "metadata": {},
   "source": [
    "# Loading data"
   ]
  },
  {
   "cell_type": "code",
   "execution_count": 3,
   "id": "connected-supplier",
   "metadata": {},
   "outputs": [],
   "source": [
    "data = load_digits()\n",
    "X = data[\"data\"]\n",
    "y = data[\"target\"]\n",
    "X_train, X_test, y_train, y_test = train_test_split(X, y, test_size=0.25, shuffle=False)"
   ]
  },
  {
   "cell_type": "markdown",
   "id": "fitting-snowboard",
   "metadata": {},
   "source": [
    "# 1NN"
   ]
  },
  {
   "cell_type": "code",
   "execution_count": 4,
   "id": "controversial-alabama",
   "metadata": {},
   "outputs": [],
   "source": [
    "class OneNNClassifier(BaseEstimator, ClassifierMixin):\n",
    "\n",
    "    def __init__(self):\n",
    "        pass\n",
    "\n",
    "    def fit(self, X, y):\n",
    "\n",
    "        X, y = check_X_y(X, y)\n",
    "        self.classes_ = unique_labels(y)\n",
    "\n",
    "        self.X_ = X\n",
    "        self.y_ = y\n",
    "        \n",
    "        return self\n",
    "\n",
    "    def predict(self, X):\n",
    "\n",
    "        check_is_fitted(self)\n",
    "        X = check_array(X)\n",
    "\n",
    "        closest = np.argmin(euclidean_distances(X, self.X_), axis=1)\n",
    "        \n",
    "        return self.y_[closest]"
   ]
  },
  {
   "cell_type": "code",
   "execution_count": 5,
   "id": "faced-management",
   "metadata": {},
   "outputs": [
    {
     "name": "stdout",
     "output_type": "stream",
     "text": [
      "0.9622222222222222\n"
     ]
    }
   ],
   "source": [
    "onennclassifier = OneNNClassifier()\n",
    "onennclassifier.fit(X_train, y_train)\n",
    "prediction = onennclassifier.predict(X_test)\n",
    "accuracy = accuracy_score(prediction, y_test)\n",
    "print(accuracy)\n",
    "write_answer(1 - accuracy, 1)"
   ]
  },
  {
   "cell_type": "markdown",
   "id": "flying-satin",
   "metadata": {},
   "source": [
    "# RandomForestClassifier"
   ]
  },
  {
   "cell_type": "code",
   "execution_count": 6,
   "id": "practical-manufacturer",
   "metadata": {},
   "outputs": [
    {
     "name": "stdout",
     "output_type": "stream",
     "text": [
      "0.9333333333333333\n"
     ]
    }
   ],
   "source": [
    "randomforestclassifier = RandomForestClassifier(n_estimators=1000, n_jobs=-1)\n",
    "randomforestclassifier.fit(X_train, y_train)\n",
    "prediction = randomforestclassifier.predict(X_test)\n",
    "accuracy = accuracy_score(prediction, y_test)\n",
    "print(accuracy)\n",
    "write_answer(1 - accuracy, 2)"
   ]
  }
 ],
 "metadata": {
  "kernelspec": {
   "display_name": "Python 3",
   "language": "python",
   "name": "python3"
  },
  "language_info": {
   "codemirror_mode": {
    "name": "ipython",
    "version": 3
   },
   "file_extension": ".py",
   "mimetype": "text/x-python",
   "name": "python",
   "nbconvert_exporter": "python",
   "pygments_lexer": "ipython3",
   "version": "3.9.3"
  },
  "toc": {
   "base_numbering": 1,
   "nav_menu": {},
   "number_sections": true,
   "sideBar": true,
   "skip_h1_title": false,
   "title_cell": "Table of Contents",
   "title_sidebar": "Contents",
   "toc_cell": false,
   "toc_position": {},
   "toc_section_display": true,
   "toc_window_display": false
  }
 },
 "nbformat": 4,
 "nbformat_minor": 5
}

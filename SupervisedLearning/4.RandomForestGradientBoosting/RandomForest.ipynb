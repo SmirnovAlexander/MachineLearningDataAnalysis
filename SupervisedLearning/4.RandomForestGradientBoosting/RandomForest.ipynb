{
 "cells": [
  {
   "cell_type": "code",
   "execution_count": 1,
   "id": "naval-force",
   "metadata": {},
   "outputs": [],
   "source": [
    "from tqdm import tqdm\n",
    "import numpy as np\n",
    "import matplotlib.pyplot as plt\n",
    "import seaborn as sns\n",
    "\n",
    "from sklearn.datasets import load_digits\n",
    "\n",
    "from sklearn.model_selection import cross_val_score\n",
    "\n",
    "from sklearn.tree import DecisionTreeClassifier\n",
    "from sklearn.ensemble import BaggingClassifier\n",
    "from sklearn.ensemble import RandomForestClassifier"
   ]
  },
  {
   "cell_type": "markdown",
   "id": "demanding-imagination",
   "metadata": {},
   "source": [
    "# Data loading"
   ]
  },
  {
   "cell_type": "code",
   "execution_count": 2,
   "id": "authorized-shanghai",
   "metadata": {},
   "outputs": [],
   "source": [
    "data = load_digits()"
   ]
  },
  {
   "cell_type": "code",
   "execution_count": 3,
   "id": "formed-digest",
   "metadata": {},
   "outputs": [],
   "source": [
    "X = data.data\n",
    "y = data.target"
   ]
  },
  {
   "cell_type": "code",
   "execution_count": 4,
   "id": "greek-college",
   "metadata": {},
   "outputs": [
    {
     "name": "stdout",
     "output_type": "stream",
     "text": [
      "(1797, 64)\n",
      "(1797,)\n"
     ]
    }
   ],
   "source": [
    "print(X.shape)\n",
    "print(y.shape)"
   ]
  },
  {
   "cell_type": "code",
   "execution_count": 5,
   "id": "guilty-religion",
   "metadata": {},
   "outputs": [
    {
     "data": {
      "text/plain": [
       "array([ 0.,  0.,  5., 13.,  9.,  1.,  0.,  0.,  0.,  0., 13., 15., 10.,\n",
       "       15.,  5.,  0.,  0.,  3., 15.,  2.,  0., 11.,  8.,  0.,  0.,  4.,\n",
       "       12.,  0.,  0.,  8.,  8.,  0.,  0.,  5.,  8.,  0.,  0.,  9.,  8.,\n",
       "        0.,  0.,  4., 11.,  0.,  1., 12.,  7.,  0.,  0.,  2., 14.,  5.,\n",
       "       10., 12.,  0.,  0.,  0.,  0.,  6., 13., 10.,  0.,  0.,  0.])"
      ]
     },
     "execution_count": 5,
     "metadata": {},
     "output_type": "execute_result"
    }
   ],
   "source": [
    "X[0]"
   ]
  },
  {
   "cell_type": "code",
   "execution_count": 6,
   "id": "statutory-desktop",
   "metadata": {},
   "outputs": [
    {
     "data": {
      "text/plain": [
       "array([[ 0.,  0.,  5., 13.,  9.,  1.,  0.,  0.],\n",
       "       [ 0.,  0., 13., 15., 10., 15.,  5.,  0.],\n",
       "       [ 0.,  3., 15.,  2.,  0., 11.,  8.,  0.],\n",
       "       [ 0.,  4., 12.,  0.,  0.,  8.,  8.,  0.],\n",
       "       [ 0.,  5.,  8.,  0.,  0.,  9.,  8.,  0.],\n",
       "       [ 0.,  4., 11.,  0.,  1., 12.,  7.,  0.],\n",
       "       [ 0.,  2., 14.,  5., 10., 12.,  0.,  0.],\n",
       "       [ 0.,  0.,  6., 13., 10.,  0.,  0.,  0.]])"
      ]
     },
     "execution_count": 6,
     "metadata": {},
     "output_type": "execute_result"
    }
   ],
   "source": [
    "X[0].reshape(8, 8)"
   ]
  },
  {
   "cell_type": "code",
   "execution_count": 7,
   "id": "small-madagascar",
   "metadata": {},
   "outputs": [
    {
     "data": {
      "text/plain": [
       "<matplotlib.image.AxesImage at 0x7f88449ad4c0>"
      ]
     },
     "execution_count": 7,
     "metadata": {},
     "output_type": "execute_result"
    },
    {
     "data": {
      "image/png": "[encoded data removed]",
      "text/plain": [
       "<Figure size 432x288 with 1 Axes>"
      ]
     },
     "metadata": {
      "needs_background": "light"
     },
     "output_type": "display_data"
    }
   ],
   "source": [
    "plt.imshow(X[0].reshape(8, 8))"
   ]
  },
  {
   "cell_type": "code",
   "execution_count": 8,
   "id": "dirty-thesaurus",
   "metadata": {},
   "outputs": [
    {
     "data": {
      "text/plain": [
       "0"
      ]
     },
     "execution_count": 8,
     "metadata": {},
     "output_type": "execute_result"
    }
   ],
   "source": [
    "y[0]"
   ]
  },
  {
   "cell_type": "markdown",
   "id": "certified-pastor",
   "metadata": {},
   "source": [
    "# Training"
   ]
  },
  {
   "cell_type": "code",
   "execution_count": 9,
   "id": "received-aerospace",
   "metadata": {},
   "outputs": [],
   "source": [
    "cv = 10"
   ]
  },
  {
   "cell_type": "code",
   "execution_count": 10,
   "id": "hourly-indian",
   "metadata": {},
   "outputs": [],
   "source": [
    "def write_answer(data, filename):\n",
    "    with open(f\"output/random_forest/{filename}.txt\", \"w\") as f:\n",
    "        if type(data)==list:\n",
    "            f.write(\" \".join(str(i) for i in data))\n",
    "        else:\n",
    "            f.write(str(data))"
   ]
  },
  {
   "cell_type": "markdown",
   "id": "opposite-reaction",
   "metadata": {},
   "source": [
    "## DecisionTreeClassifier"
   ]
  },
  {
   "cell_type": "code",
   "execution_count": 11,
   "id": "frozen-wholesale",
   "metadata": {},
   "outputs": [
    {
     "name": "stdout",
     "output_type": "stream",
     "text": [
      "0.8235785226567349\n"
     ]
    }
   ],
   "source": [
    "score = cross_val_score(DecisionTreeClassifier(), X, y, cv=cv)\n",
    "score_mean = score.mean()\n",
    "print(score_mean)\n",
    "write_answer(score_mean, 1)"
   ]
  },
  {
   "cell_type": "markdown",
   "id": "aboriginal-friday",
   "metadata": {},
   "source": [
    "## BaggingClassifier"
   ]
  },
  {
   "cell_type": "code",
   "execution_count": 12,
   "id": "chemical-musical",
   "metadata": {},
   "outputs": [
    {
     "name": "stdout",
     "output_type": "stream",
     "text": [
      "0.9231688392302917\n"
     ]
    }
   ],
   "source": [
    "score = cross_val_score(BaggingClassifier(DecisionTreeClassifier(), n_estimators=100), X, y, cv=cv, n_jobs=-1)\n",
    "score_mean = score.mean()\n",
    "print(score_mean)\n",
    "write_answer(score_mean, 2)"
   ]
  },
  {
   "cell_type": "markdown",
   "id": "supposed-legislation",
   "metadata": {},
   "source": [
    "## BaggingClassifier (partial features)"
   ]
  },
  {
   "cell_type": "code",
   "execution_count": 13,
   "id": "exceptional-playing",
   "metadata": {},
   "outputs": [
    {
     "name": "stdout",
     "output_type": "stream",
     "text": [
      "0.9365642458100558\n"
     ]
    }
   ],
   "source": [
    "score = cross_val_score(BaggingClassifier(DecisionTreeClassifier(), n_estimators=100, max_features=int(np.sqrt(X.shape[1]))), X, y, cv=cv, n_jobs=-1)\n",
    "score_mean = score.mean()\n",
    "print(score_mean)\n",
    "write_answer(score_mean, 3)"
   ]
  },
  {
   "cell_type": "markdown",
   "id": "colored-attraction",
   "metadata": {},
   "source": [
    "## BaggingClassifier (partial features in estimators)"
   ]
  },
  {
   "cell_type": "code",
   "execution_count": 14,
   "id": "wired-volume",
   "metadata": {},
   "outputs": [
    {
     "name": "stdout",
     "output_type": "stream",
     "text": [
      "0.9499193047796399\n"
     ]
    }
   ],
   "source": [
    "score = cross_val_score(BaggingClassifier(DecisionTreeClassifier(max_features=int(np.sqrt(X.shape[1]))), n_estimators=100), X, y, cv=cv, n_jobs=-1)\n",
    "score_mean = score.mean()\n",
    "print(score_mean)\n",
    "write_answer(score_mean, 4)"
   ]
  },
  {
   "cell_type": "markdown",
   "id": "regular-relay",
   "metadata": {},
   "source": [
    "## RandomForestClassifier"
   ]
  },
  {
   "cell_type": "code",
   "execution_count": 15,
   "id": "disabled-luxembourg",
   "metadata": {},
   "outputs": [],
   "source": [
    "answers = []"
   ]
  },
  {
   "cell_type": "code",
   "execution_count": 16,
   "id": "decimal-anchor",
   "metadata": {},
   "outputs": [
    {
     "name": "stdout",
     "output_type": "stream",
     "text": [
      "0.9515797641216635\n"
     ]
    }
   ],
   "source": [
    "score = cross_val_score(RandomForestClassifier(), X, y, cv=cv, n_jobs=-1)\n",
    "score_mean = score.mean()\n",
    "print(score_mean)"
   ]
  },
  {
   "cell_type": "markdown",
   "id": "through-medicine",
   "metadata": {},
   "source": [
    "### Overfits with big number of trees (false)"
   ]
  },
  {
   "cell_type": "code",
   "execution_count": 17,
   "id": "abroad-preparation",
   "metadata": {},
   "outputs": [],
   "source": [
    "number_of_trees = range(50, 500, 30)\n",
    "scores = []"
   ]
  },
  {
   "cell_type": "code",
   "execution_count": 18,
   "id": "balanced-fishing",
   "metadata": {},
   "outputs": [
    {
     "name": "stderr",
     "output_type": "stream",
     "text": [
      "100%|██████████| 15/15 [00:37<00:00,  2.49s/it]\n"
     ]
    }
   ],
   "source": [
    "for n_trees in tqdm(number_of_trees):\n",
    "    score = cross_val_score(RandomForestClassifier(n_estimators=n_trees), X, y, cv=cv, n_jobs=-1)\n",
    "    score_mean = score.mean()\n",
    "    scores.append(score_mean)"
   ]
  },
  {
   "cell_type": "code",
   "execution_count": 19,
   "id": "caroline-determination",
   "metadata": {},
   "outputs": [
    {
     "data": {
      "image/png": "[encoded data removed]",
      "text/plain": [
       "<Figure size 432x288 with 1 Axes>"
      ]
     },
     "metadata": {
      "needs_background": "light"
     },
     "output_type": "display_data"
    }
   ],
   "source": [
    "sns.lineplot(x=number_of_trees, y=scores)\n",
    "plt.show()"
   ]
  },
  {
   "cell_type": "markdown",
   "id": "reported-sierra",
   "metadata": {},
   "source": [
    "### Works worse with small number of trees (true)"
   ]
  },
  {
   "cell_type": "code",
   "execution_count": 20,
   "id": "configured-machine",
   "metadata": {},
   "outputs": [],
   "source": [
    "number_of_trees = range(5, 100, 10)\n",
    "scores = []"
   ]
  },
  {
   "cell_type": "code",
   "execution_count": 21,
   "id": "defined-mixture",
   "metadata": {},
   "outputs": [
    {
     "name": "stderr",
     "output_type": "stream",
     "text": [
      "100%|██████████| 10/10 [00:04<00:00,  2.07it/s]\n"
     ]
    }
   ],
   "source": [
    "for n_trees in tqdm(number_of_trees):\n",
    "    score = cross_val_score(RandomForestClassifier(n_estimators=n_trees), X, y, cv=cv, n_jobs=-1)\n",
    "    score_mean = score.mean()\n",
    "    scores.append(score_mean)"
   ]
  },
  {
   "cell_type": "code",
   "execution_count": 22,
   "id": "conditional-appreciation",
   "metadata": {},
   "outputs": [
    {
     "data": {
      "image/png": "[encoded data removed]",
      "text/plain": [
       "<Figure size 432x288 with 1 Axes>"
      ]
     },
     "metadata": {
      "needs_background": "light"
     },
     "output_type": "display_data"
    }
   ],
   "source": [
    "sns.lineplot(x=number_of_trees, y=scores)\n",
    "plt.show()"
   ]
  },
  {
   "cell_type": "code",
   "execution_count": 23,
   "id": "fantastic-italian",
   "metadata": {},
   "outputs": [],
   "source": [
    "answers.append(2)"
   ]
  },
  {
   "cell_type": "markdown",
   "id": "offshore-founder",
   "metadata": {},
   "source": [
    "### With growing number of trees quality stops at some number (true)"
   ]
  },
  {
   "cell_type": "code",
   "execution_count": 24,
   "id": "documentary-evidence",
   "metadata": {},
   "outputs": [],
   "source": [
    "answers.append(3)"
   ]
  },
  {
   "cell_type": "markdown",
   "id": "conditional-chicago",
   "metadata": {},
   "source": [
    "### If more features then algo is worse (true)"
   ]
  },
  {
   "cell_type": "code",
   "execution_count": 25,
   "id": "cutting-latitude",
   "metadata": {},
   "outputs": [],
   "source": [
    "number_of_max_features = range(5, 60, 5)\n",
    "scores = []"
   ]
  },
  {
   "cell_type": "code",
   "execution_count": 26,
   "id": "auburn-madonna",
   "metadata": {},
   "outputs": [
    {
     "name": "stderr",
     "output_type": "stream",
     "text": [
      "100%|██████████| 11/11 [00:21<00:00,  1.99s/it]\n"
     ]
    }
   ],
   "source": [
    "for n_features in tqdm(number_of_max_features):\n",
    "    score = cross_val_score(RandomForestClassifier(max_features=n_features), X, y, cv=cv, n_jobs=-1)\n",
    "    score_mean = score.mean()\n",
    "    scores.append(score_mean)"
   ]
  },
  {
   "cell_type": "code",
   "execution_count": 27,
   "id": "advanced-dominant",
   "metadata": {},
   "outputs": [
    {
     "data": {
      "image/png": "[encoded data removed]",
      "text/plain": [
       "<Figure size 432x288 with 1 Axes>"
      ]
     },
     "metadata": {
      "needs_background": "light"
     },
     "output_type": "display_data"
    }
   ],
   "source": [
    "sns.lineplot(x=number_of_max_features, y=scores)\n",
    "plt.show()"
   ]
  },
  {
   "cell_type": "code",
   "execution_count": 28,
   "id": "brief-leisure",
   "metadata": {},
   "outputs": [],
   "source": [
    "answers.append(4)"
   ]
  },
  {
   "cell_type": "markdown",
   "id": "developed-battery",
   "metadata": {},
   "source": [
    "### If more features then algo is better (false)"
   ]
  },
  {
   "cell_type": "markdown",
   "id": "automatic-organic",
   "metadata": {},
   "source": [
    "### If small depth then algo is better (false)"
   ]
  },
  {
   "cell_type": "code",
   "execution_count": 29,
   "id": "sonic-action",
   "metadata": {},
   "outputs": [],
   "source": [
    "depths = range(5, 150, 10)\n",
    "scores = []"
   ]
  },
  {
   "cell_type": "code",
   "execution_count": 30,
   "id": "surface-semester",
   "metadata": {},
   "outputs": [
    {
     "name": "stderr",
     "output_type": "stream",
     "text": [
      "100%|██████████| 15/15 [00:13<00:00,  1.10it/s]\n"
     ]
    }
   ],
   "source": [
    "for depth in tqdm(depths):\n",
    "    score = cross_val_score(RandomForestClassifier(max_depth=depth), X, y, cv=cv, n_jobs=-1)\n",
    "    score_mean = score.mean()\n",
    "    scores.append(score_mean)"
   ]
  },
  {
   "cell_type": "code",
   "execution_count": 31,
   "id": "plain-renaissance",
   "metadata": {},
   "outputs": [
    {
     "data": {
      "image/png": "[encoded data removed]",
      "text/plain": [
       "<Figure size 432x288 with 1 Axes>"
      ]
     },
     "metadata": {
      "needs_background": "light"
     },
     "output_type": "display_data"
    }
   ],
   "source": [
    "sns.lineplot(x=depths, y=scores)\n",
    "plt.show()"
   ]
  },
  {
   "cell_type": "markdown",
   "id": "beginning-concert",
   "metadata": {},
   "source": [
    "### If small depth then algo is worse (true)"
   ]
  },
  {
   "cell_type": "code",
   "execution_count": 32,
   "id": "divine-contribution",
   "metadata": {},
   "outputs": [],
   "source": [
    "answers.append(7)"
   ]
  },
  {
   "cell_type": "code",
   "execution_count": 33,
   "id": "former-experiment",
   "metadata": {},
   "outputs": [],
   "source": [
    "write_answer(answers, 5)"
   ]
  }
 ],
 "metadata": {
  "kernelspec": {
   "display_name": "Python 3",
   "language": "python",
   "name": "python3"
  },
  "language_info": {
   "codemirror_mode": {
    "name": "ipython",
    "version": 3
   },
   "file_extension": ".py",
   "mimetype": "text/x-python",
   "name": "python",
   "nbconvert_exporter": "python",
   "pygments_lexer": "ipython3",
   "version": "3.9.2"
  },
  "toc": {
   "base_numbering": 1,
   "nav_menu": {},
   "number_sections": true,
   "sideBar": true,
   "skip_h1_title": false,
   "title_cell": "Table of Contents",
   "title_sidebar": "Contents",
   "toc_cell": false,
   "toc_position": {},
   "toc_section_display": true,
   "toc_window_display": true
  }
 },
 "nbformat": 4,
 "nbformat_minor": 5
}
